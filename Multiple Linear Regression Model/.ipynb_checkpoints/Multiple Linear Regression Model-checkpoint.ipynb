{
 "cells": [
  {
   "cell_type": "markdown",
   "id": "411a31bf",
   "metadata": {},
   "source": [
    "##  Multiple Linear Regression Model"
   ]
  },
  {
   "cell_type": "markdown",
   "id": "5c939c22",
   "metadata": {},
   "source": [
    "### Importing the required Libraries "
   ]
  },
  {
   "cell_type": "code",
   "execution_count": 2,
   "id": "cd1a5c80",
   "metadata": {},
   "outputs": [],
   "source": [
    "import pandas as pd\n",
    "import numpy as np\n",
    "from matplotlib import pyplot as plt\n",
    "import seaborn as sns"
   ]
  },
  {
   "cell_type": "markdown",
   "id": "cb17b6fa",
   "metadata": {},
   "source": [
    "### Reading the data "
   ]
  },
  {
   "cell_type": "code",
   "execution_count": 3,
   "id": "0168bcd1",
   "metadata": {},
   "outputs": [],
   "source": [
    "df = pd.read_csv('measurements.csv') # load the dataset using pandas"
   ]
  },
  {
   "cell_type": "code",
   "execution_count": 4,
   "id": "cb35280c",
   "metadata": {
    "scrolled": true
   },
   "outputs": [
    {
     "data": {
      "text/html": [
       "<div>\n",
       "<style scoped>\n",
       "    .dataframe tbody tr th:only-of-type {\n",
       "        vertical-align: middle;\n",
       "    }\n",
       "\n",
       "    .dataframe tbody tr th {\n",
       "        vertical-align: top;\n",
       "    }\n",
       "\n",
       "    .dataframe thead th {\n",
       "        text-align: right;\n",
       "    }\n",
       "</style>\n",
       "<table border=\"1\" class=\"dataframe\">\n",
       "  <thead>\n",
       "    <tr style=\"text-align: right;\">\n",
       "      <th></th>\n",
       "      <th>distance</th>\n",
       "      <th>consume</th>\n",
       "      <th>speed</th>\n",
       "      <th>temp_inside</th>\n",
       "      <th>temp_outside</th>\n",
       "      <th>specials</th>\n",
       "      <th>gas_type</th>\n",
       "      <th>AC</th>\n",
       "      <th>rain</th>\n",
       "      <th>sun</th>\n",
       "      <th>refill liters</th>\n",
       "      <th>refill gas</th>\n",
       "    </tr>\n",
       "  </thead>\n",
       "  <tbody>\n",
       "    <tr>\n",
       "      <th>0</th>\n",
       "      <td>28</td>\n",
       "      <td>5</td>\n",
       "      <td>26</td>\n",
       "      <td>21,5</td>\n",
       "      <td>12</td>\n",
       "      <td>NaN</td>\n",
       "      <td>E10</td>\n",
       "      <td>0</td>\n",
       "      <td>0</td>\n",
       "      <td>0</td>\n",
       "      <td>45</td>\n",
       "      <td>E10</td>\n",
       "    </tr>\n",
       "    <tr>\n",
       "      <th>1</th>\n",
       "      <td>12</td>\n",
       "      <td>4,2</td>\n",
       "      <td>30</td>\n",
       "      <td>21,5</td>\n",
       "      <td>13</td>\n",
       "      <td>NaN</td>\n",
       "      <td>E10</td>\n",
       "      <td>0</td>\n",
       "      <td>0</td>\n",
       "      <td>0</td>\n",
       "      <td>NaN</td>\n",
       "      <td>NaN</td>\n",
       "    </tr>\n",
       "    <tr>\n",
       "      <th>2</th>\n",
       "      <td>11,2</td>\n",
       "      <td>5,5</td>\n",
       "      <td>38</td>\n",
       "      <td>21,5</td>\n",
       "      <td>15</td>\n",
       "      <td>NaN</td>\n",
       "      <td>E10</td>\n",
       "      <td>0</td>\n",
       "      <td>0</td>\n",
       "      <td>0</td>\n",
       "      <td>NaN</td>\n",
       "      <td>NaN</td>\n",
       "    </tr>\n",
       "    <tr>\n",
       "      <th>3</th>\n",
       "      <td>12,9</td>\n",
       "      <td>3,9</td>\n",
       "      <td>36</td>\n",
       "      <td>21,5</td>\n",
       "      <td>14</td>\n",
       "      <td>NaN</td>\n",
       "      <td>E10</td>\n",
       "      <td>0</td>\n",
       "      <td>0</td>\n",
       "      <td>0</td>\n",
       "      <td>NaN</td>\n",
       "      <td>NaN</td>\n",
       "    </tr>\n",
       "    <tr>\n",
       "      <th>4</th>\n",
       "      <td>18,5</td>\n",
       "      <td>4,5</td>\n",
       "      <td>46</td>\n",
       "      <td>21,5</td>\n",
       "      <td>15</td>\n",
       "      <td>NaN</td>\n",
       "      <td>E10</td>\n",
       "      <td>0</td>\n",
       "      <td>0</td>\n",
       "      <td>0</td>\n",
       "      <td>NaN</td>\n",
       "      <td>NaN</td>\n",
       "    </tr>\n",
       "  </tbody>\n",
       "</table>\n",
       "</div>"
      ],
      "text/plain": [
       "  distance consume  speed temp_inside  temp_outside specials gas_type  AC  \\\n",
       "0       28       5     26        21,5            12      NaN      E10   0   \n",
       "1       12     4,2     30        21,5            13      NaN      E10   0   \n",
       "2     11,2     5,5     38        21,5            15      NaN      E10   0   \n",
       "3     12,9     3,9     36        21,5            14      NaN      E10   0   \n",
       "4     18,5     4,5     46        21,5            15      NaN      E10   0   \n",
       "\n",
       "   rain  sun refill liters refill gas  \n",
       "0     0    0            45        E10  \n",
       "1     0    0           NaN        NaN  \n",
       "2     0    0           NaN        NaN  \n",
       "3     0    0           NaN        NaN  \n",
       "4     0    0           NaN        NaN  "
      ]
     },
     "execution_count": 4,
     "metadata": {},
     "output_type": "execute_result"
    }
   ],
   "source": [
    "df.head(5) # inspect the top five row of the data set"
   ]
  },
  {
   "cell_type": "code",
   "execution_count": 5,
   "id": "f79fdb50",
   "metadata": {},
   "outputs": [
    {
     "data": {
      "text/plain": [
       "(388, 12)"
      ]
     },
     "execution_count": 5,
     "metadata": {},
     "output_type": "execute_result"
    }
   ],
   "source": [
    "df.shape # checks the numbe rof rows and column"
   ]
  },
  {
   "cell_type": "code",
   "execution_count": 6,
   "id": "1a423f60",
   "metadata": {
    "scrolled": true
   },
   "outputs": [
    {
     "name": "stdout",
     "output_type": "stream",
     "text": [
      "<class 'pandas.core.frame.DataFrame'>\n",
      "RangeIndex: 388 entries, 0 to 387\n",
      "Data columns (total 12 columns):\n",
      " #   Column         Non-Null Count  Dtype \n",
      "---  ------         --------------  ----- \n",
      " 0   distance       388 non-null    object\n",
      " 1   consume        388 non-null    object\n",
      " 2   speed          388 non-null    int64 \n",
      " 3   temp_inside    376 non-null    object\n",
      " 4   temp_outside   388 non-null    int64 \n",
      " 5   specials       93 non-null     object\n",
      " 6   gas_type       388 non-null    object\n",
      " 7   AC             388 non-null    int64 \n",
      " 8   rain           388 non-null    int64 \n",
      " 9   sun            388 non-null    int64 \n",
      " 10  refill liters  13 non-null     object\n",
      " 11  refill gas     13 non-null     object\n",
      "dtypes: int64(5), object(7)\n",
      "memory usage: 36.5+ KB\n"
     ]
    }
   ],
   "source": [
    "df.info() # check the dtat type of each column and counts"
   ]
  },
  {
   "cell_type": "markdown",
   "id": "21c9df84",
   "metadata": {},
   "source": [
    "### Cleaning The data "
   ]
  },
  {
   "cell_type": "markdown",
   "id": "6832aceb",
   "metadata": {},
   "source": [
    "**Drop alert** - Columns containing all NULL values can be dropped as they have no effect on any other parameters"
   ]
  },
  {
   "cell_type": "code",
   "execution_count": 7,
   "id": "b50c7cf0",
   "metadata": {},
   "outputs": [
    {
     "data": {
      "text/plain": [
       "distance           0\n",
       "consume            0\n",
       "speed              0\n",
       "temp_inside       12\n",
       "temp_outside       0\n",
       "specials         295\n",
       "gas_type           0\n",
       "AC                 0\n",
       "rain               0\n",
       "sun                0\n",
       "refill liters    375\n",
       "refill gas       375\n",
       "dtype: int64"
      ]
     },
     "execution_count": 7,
     "metadata": {},
     "output_type": "execute_result"
    }
   ],
   "source": [
    "df.isnull().sum() # check the number of missing values"
   ]
  },
  {
   "cell_type": "code",
   "execution_count": 8,
   "id": "25fec351",
   "metadata": {},
   "outputs": [
    {
     "data": {
      "text/html": [
       "<div>\n",
       "<style scoped>\n",
       "    .dataframe tbody tr th:only-of-type {\n",
       "        vertical-align: middle;\n",
       "    }\n",
       "\n",
       "    .dataframe tbody tr th {\n",
       "        vertical-align: top;\n",
       "    }\n",
       "\n",
       "    .dataframe thead th {\n",
       "        text-align: right;\n",
       "    }\n",
       "</style>\n",
       "<table border=\"1\" class=\"dataframe\">\n",
       "  <thead>\n",
       "    <tr style=\"text-align: right;\">\n",
       "      <th></th>\n",
       "      <th>distance</th>\n",
       "      <th>consume</th>\n",
       "      <th>speed</th>\n",
       "      <th>temp_inside</th>\n",
       "      <th>temp_outside</th>\n",
       "      <th>gas_type</th>\n",
       "      <th>AC</th>\n",
       "      <th>rain</th>\n",
       "      <th>sun</th>\n",
       "    </tr>\n",
       "  </thead>\n",
       "  <tbody>\n",
       "    <tr>\n",
       "      <th>0</th>\n",
       "      <td>28</td>\n",
       "      <td>5</td>\n",
       "      <td>26</td>\n",
       "      <td>21,5</td>\n",
       "      <td>12</td>\n",
       "      <td>E10</td>\n",
       "      <td>0</td>\n",
       "      <td>0</td>\n",
       "      <td>0</td>\n",
       "    </tr>\n",
       "    <tr>\n",
       "      <th>1</th>\n",
       "      <td>12</td>\n",
       "      <td>4,2</td>\n",
       "      <td>30</td>\n",
       "      <td>21,5</td>\n",
       "      <td>13</td>\n",
       "      <td>E10</td>\n",
       "      <td>0</td>\n",
       "      <td>0</td>\n",
       "      <td>0</td>\n",
       "    </tr>\n",
       "    <tr>\n",
       "      <th>2</th>\n",
       "      <td>11,2</td>\n",
       "      <td>5,5</td>\n",
       "      <td>38</td>\n",
       "      <td>21,5</td>\n",
       "      <td>15</td>\n",
       "      <td>E10</td>\n",
       "      <td>0</td>\n",
       "      <td>0</td>\n",
       "      <td>0</td>\n",
       "    </tr>\n",
       "    <tr>\n",
       "      <th>3</th>\n",
       "      <td>12,9</td>\n",
       "      <td>3,9</td>\n",
       "      <td>36</td>\n",
       "      <td>21,5</td>\n",
       "      <td>14</td>\n",
       "      <td>E10</td>\n",
       "      <td>0</td>\n",
       "      <td>0</td>\n",
       "      <td>0</td>\n",
       "    </tr>\n",
       "    <tr>\n",
       "      <th>4</th>\n",
       "      <td>18,5</td>\n",
       "      <td>4,5</td>\n",
       "      <td>46</td>\n",
       "      <td>21,5</td>\n",
       "      <td>15</td>\n",
       "      <td>E10</td>\n",
       "      <td>0</td>\n",
       "      <td>0</td>\n",
       "      <td>0</td>\n",
       "    </tr>\n",
       "  </tbody>\n",
       "</table>\n",
       "</div>"
      ],
      "text/plain": [
       "  distance consume  speed temp_inside  temp_outside gas_type  AC  rain  sun\n",
       "0       28       5     26        21,5            12      E10   0     0    0\n",
       "1       12     4,2     30        21,5            13      E10   0     0    0\n",
       "2     11,2     5,5     38        21,5            15      E10   0     0    0\n",
       "3     12,9     3,9     36        21,5            14      E10   0     0    0\n",
       "4     18,5     4,5     46        21,5            15      E10   0     0    0"
      ]
     },
     "execution_count": 8,
     "metadata": {},
     "output_type": "execute_result"
    }
   ],
   "source": [
    "df = df.drop(columns=['specials','refill liters','refill gas'], axis = 1) # drop irrevelant columns\n",
    "df.head(5) # top five rows of data set\n"
   ]
  },
  {
   "cell_type": "code",
   "execution_count": 9,
   "id": "ef96ba0c",
   "metadata": {},
   "outputs": [
    {
     "data": {
      "text/html": [
       "<div>\n",
       "<style scoped>\n",
       "    .dataframe tbody tr th:only-of-type {\n",
       "        vertical-align: middle;\n",
       "    }\n",
       "\n",
       "    .dataframe tbody tr th {\n",
       "        vertical-align: top;\n",
       "    }\n",
       "\n",
       "    .dataframe thead th {\n",
       "        text-align: right;\n",
       "    }\n",
       "</style>\n",
       "<table border=\"1\" class=\"dataframe\">\n",
       "  <thead>\n",
       "    <tr style=\"text-align: right;\">\n",
       "      <th></th>\n",
       "      <th>distance</th>\n",
       "      <th>consume</th>\n",
       "      <th>speed</th>\n",
       "      <th>temp_inside</th>\n",
       "      <th>temp_outside</th>\n",
       "      <th>gas_type</th>\n",
       "      <th>AC</th>\n",
       "      <th>rain</th>\n",
       "      <th>sun</th>\n",
       "    </tr>\n",
       "  </thead>\n",
       "  <tbody>\n",
       "    <tr>\n",
       "      <th>0</th>\n",
       "      <td>28</td>\n",
       "      <td>5</td>\n",
       "      <td>26</td>\n",
       "      <td>21.5</td>\n",
       "      <td>12</td>\n",
       "      <td>E10</td>\n",
       "      <td>0</td>\n",
       "      <td>0</td>\n",
       "      <td>0</td>\n",
       "    </tr>\n",
       "    <tr>\n",
       "      <th>1</th>\n",
       "      <td>12</td>\n",
       "      <td>4.2</td>\n",
       "      <td>30</td>\n",
       "      <td>21.5</td>\n",
       "      <td>13</td>\n",
       "      <td>E10</td>\n",
       "      <td>0</td>\n",
       "      <td>0</td>\n",
       "      <td>0</td>\n",
       "    </tr>\n",
       "    <tr>\n",
       "      <th>2</th>\n",
       "      <td>11.2</td>\n",
       "      <td>5.5</td>\n",
       "      <td>38</td>\n",
       "      <td>21.5</td>\n",
       "      <td>15</td>\n",
       "      <td>E10</td>\n",
       "      <td>0</td>\n",
       "      <td>0</td>\n",
       "      <td>0</td>\n",
       "    </tr>\n",
       "    <tr>\n",
       "      <th>3</th>\n",
       "      <td>12.9</td>\n",
       "      <td>3.9</td>\n",
       "      <td>36</td>\n",
       "      <td>21.5</td>\n",
       "      <td>14</td>\n",
       "      <td>E10</td>\n",
       "      <td>0</td>\n",
       "      <td>0</td>\n",
       "      <td>0</td>\n",
       "    </tr>\n",
       "    <tr>\n",
       "      <th>4</th>\n",
       "      <td>18.5</td>\n",
       "      <td>4.5</td>\n",
       "      <td>46</td>\n",
       "      <td>21.5</td>\n",
       "      <td>15</td>\n",
       "      <td>E10</td>\n",
       "      <td>0</td>\n",
       "      <td>0</td>\n",
       "      <td>0</td>\n",
       "    </tr>\n",
       "  </tbody>\n",
       "</table>\n",
       "</div>"
      ],
      "text/plain": [
       "  distance consume  speed temp_inside  temp_outside gas_type  AC  rain  sun\n",
       "0       28       5     26        21.5            12      E10   0     0    0\n",
       "1       12     4.2     30        21.5            13      E10   0     0    0\n",
       "2     11.2     5.5     38        21.5            15      E10   0     0    0\n",
       "3     12.9     3.9     36        21.5            14      E10   0     0    0\n",
       "4     18.5     4.5     46        21.5            15      E10   0     0    0"
      ]
     },
     "execution_count": 9,
     "metadata": {},
     "output_type": "execute_result"
    }
   ],
   "source": [
    "# replace the comma in the data set with dot in distance, consume, temp_inside column\n",
    "df['distance']=df['distance'].str.replace(',','.')\n",
    "df['consume']=df['consume'].str.replace(',','.')\n",
    "df['temp_inside']=df['temp_inside'].str.replace(',','.')\n",
    "df.head(5)"
   ]
  },
  {
   "cell_type": "code",
   "execution_count": 10,
   "id": "f8d754c9",
   "metadata": {},
   "outputs": [],
   "source": [
    "# cange the data ype from object to float\n",
    "df['distance']=df['distance'].astype(float)\n",
    "df['consume']=df['consume'].astype(float)\n",
    "df['temp_inside']=df['temp_inside'].astype(float)"
   ]
  },
  {
   "cell_type": "code",
   "execution_count": 11,
   "id": "446898f9",
   "metadata": {},
   "outputs": [
    {
     "data": {
      "text/html": [
       "<div>\n",
       "<style scoped>\n",
       "    .dataframe tbody tr th:only-of-type {\n",
       "        vertical-align: middle;\n",
       "    }\n",
       "\n",
       "    .dataframe tbody tr th {\n",
       "        vertical-align: top;\n",
       "    }\n",
       "\n",
       "    .dataframe thead th {\n",
       "        text-align: right;\n",
       "    }\n",
       "</style>\n",
       "<table border=\"1\" class=\"dataframe\">\n",
       "  <thead>\n",
       "    <tr style=\"text-align: right;\">\n",
       "      <th></th>\n",
       "      <th>distance</th>\n",
       "      <th>consume</th>\n",
       "      <th>speed</th>\n",
       "      <th>temp_inside</th>\n",
       "      <th>temp_outside</th>\n",
       "      <th>AC</th>\n",
       "      <th>rain</th>\n",
       "      <th>sun</th>\n",
       "    </tr>\n",
       "  </thead>\n",
       "  <tbody>\n",
       "    <tr>\n",
       "      <th>count</th>\n",
       "      <td>388.000000</td>\n",
       "      <td>388.000000</td>\n",
       "      <td>388.000000</td>\n",
       "      <td>376.000000</td>\n",
       "      <td>388.000000</td>\n",
       "      <td>388.000000</td>\n",
       "      <td>388.000000</td>\n",
       "      <td>388.000000</td>\n",
       "    </tr>\n",
       "    <tr>\n",
       "      <th>mean</th>\n",
       "      <td>19.652835</td>\n",
       "      <td>4.912371</td>\n",
       "      <td>41.927835</td>\n",
       "      <td>21.929521</td>\n",
       "      <td>11.358247</td>\n",
       "      <td>0.077320</td>\n",
       "      <td>0.123711</td>\n",
       "      <td>0.082474</td>\n",
       "    </tr>\n",
       "    <tr>\n",
       "      <th>std</th>\n",
       "      <td>22.667837</td>\n",
       "      <td>1.033172</td>\n",
       "      <td>13.598524</td>\n",
       "      <td>1.010455</td>\n",
       "      <td>6.991542</td>\n",
       "      <td>0.267443</td>\n",
       "      <td>0.329677</td>\n",
       "      <td>0.275441</td>\n",
       "    </tr>\n",
       "    <tr>\n",
       "      <th>min</th>\n",
       "      <td>1.300000</td>\n",
       "      <td>3.300000</td>\n",
       "      <td>14.000000</td>\n",
       "      <td>19.000000</td>\n",
       "      <td>-5.000000</td>\n",
       "      <td>0.000000</td>\n",
       "      <td>0.000000</td>\n",
       "      <td>0.000000</td>\n",
       "    </tr>\n",
       "    <tr>\n",
       "      <th>25%</th>\n",
       "      <td>11.800000</td>\n",
       "      <td>4.300000</td>\n",
       "      <td>32.750000</td>\n",
       "      <td>21.500000</td>\n",
       "      <td>7.000000</td>\n",
       "      <td>0.000000</td>\n",
       "      <td>0.000000</td>\n",
       "      <td>0.000000</td>\n",
       "    </tr>\n",
       "    <tr>\n",
       "      <th>50%</th>\n",
       "      <td>14.600000</td>\n",
       "      <td>4.700000</td>\n",
       "      <td>40.500000</td>\n",
       "      <td>22.000000</td>\n",
       "      <td>10.000000</td>\n",
       "      <td>0.000000</td>\n",
       "      <td>0.000000</td>\n",
       "      <td>0.000000</td>\n",
       "    </tr>\n",
       "    <tr>\n",
       "      <th>75%</th>\n",
       "      <td>19.000000</td>\n",
       "      <td>5.300000</td>\n",
       "      <td>50.000000</td>\n",
       "      <td>22.500000</td>\n",
       "      <td>16.000000</td>\n",
       "      <td>0.000000</td>\n",
       "      <td>0.000000</td>\n",
       "      <td>0.000000</td>\n",
       "    </tr>\n",
       "    <tr>\n",
       "      <th>max</th>\n",
       "      <td>216.100000</td>\n",
       "      <td>12.200000</td>\n",
       "      <td>90.000000</td>\n",
       "      <td>25.500000</td>\n",
       "      <td>31.000000</td>\n",
       "      <td>1.000000</td>\n",
       "      <td>1.000000</td>\n",
       "      <td>1.000000</td>\n",
       "    </tr>\n",
       "  </tbody>\n",
       "</table>\n",
       "</div>"
      ],
      "text/plain": [
       "         distance     consume       speed  temp_inside  temp_outside  \\\n",
       "count  388.000000  388.000000  388.000000   376.000000    388.000000   \n",
       "mean    19.652835    4.912371   41.927835    21.929521     11.358247   \n",
       "std     22.667837    1.033172   13.598524     1.010455      6.991542   \n",
       "min      1.300000    3.300000   14.000000    19.000000     -5.000000   \n",
       "25%     11.800000    4.300000   32.750000    21.500000      7.000000   \n",
       "50%     14.600000    4.700000   40.500000    22.000000     10.000000   \n",
       "75%     19.000000    5.300000   50.000000    22.500000     16.000000   \n",
       "max    216.100000   12.200000   90.000000    25.500000     31.000000   \n",
       "\n",
       "               AC        rain         sun  \n",
       "count  388.000000  388.000000  388.000000  \n",
       "mean     0.077320    0.123711    0.082474  \n",
       "std      0.267443    0.329677    0.275441  \n",
       "min      0.000000    0.000000    0.000000  \n",
       "25%      0.000000    0.000000    0.000000  \n",
       "50%      0.000000    0.000000    0.000000  \n",
       "75%      0.000000    0.000000    0.000000  \n",
       "max      1.000000    1.000000    1.000000  "
      ]
     },
     "execution_count": 11,
     "metadata": {},
     "output_type": "execute_result"
    }
   ],
   "source": [
    "df.describe()"
   ]
  },
  {
   "cell_type": "code",
   "execution_count": 12,
   "id": "1a4f8a4d",
   "metadata": {},
   "outputs": [],
   "source": [
    "df['temp_inside']=df['temp_inside'].fillna(21.929521) # fill the null values in temp_inside with the mean of temp_inside"
   ]
  },
  {
   "cell_type": "code",
   "execution_count": 13,
   "id": "fd3fbe46",
   "metadata": {
    "scrolled": true
   },
   "outputs": [
    {
     "data": {
      "text/plain": [
       "distance        0\n",
       "consume         0\n",
       "speed           0\n",
       "temp_inside     0\n",
       "temp_outside    0\n",
       "gas_type        0\n",
       "AC              0\n",
       "rain            0\n",
       "sun             0\n",
       "dtype: int64"
      ]
     },
     "execution_count": 13,
     "metadata": {},
     "output_type": "execute_result"
    }
   ],
   "source": [
    "df.isnull().sum() # checkn for null"
   ]
  },
  {
   "cell_type": "code",
   "execution_count": 14,
   "id": "e18a4f67",
   "metadata": {
    "scrolled": true
   },
   "outputs": [
    {
     "data": {
      "image/png": "[encoded data removed]",
      "text/plain": [
       "<Figure size 432x288 with 1 Axes>"
      ]
     },
     "metadata": {
      "needs_background": "light"
     },
     "output_type": "display_data"
    }
   ],
   "source": [
    "sns.countplot(x='gas_type', data=df) # visulalise vaalue count of gas_type column\n",
    "plt.show()"
   ]
  },
  {
   "cell_type": "code",
   "execution_count": 15,
   "id": "cb80f9c1",
   "metadata": {
    "scrolled": true
   },
   "outputs": [],
   "source": [
    "df['gas_type']=df['gas_type'].map({'E10':1, 'SP98':0}) # map E10 to 0 and SP98 t0 1\n",
    "df['gas_type']=df['gas_type'].astype(int)"
   ]
  },
  {
   "cell_type": "code",
   "execution_count": 16,
   "id": "19e2c7a9",
   "metadata": {
    "scrolled": true
   },
   "outputs": [
    {
     "data": {
      "text/html": [
       "<div>\n",
       "<style scoped>\n",
       "    .dataframe tbody tr th:only-of-type {\n",
       "        vertical-align: middle;\n",
       "    }\n",
       "\n",
       "    .dataframe tbody tr th {\n",
       "        vertical-align: top;\n",
       "    }\n",
       "\n",
       "    .dataframe thead th {\n",
       "        text-align: right;\n",
       "    }\n",
       "</style>\n",
       "<table border=\"1\" class=\"dataframe\">\n",
       "  <thead>\n",
       "    <tr style=\"text-align: right;\">\n",
       "      <th></th>\n",
       "      <th>distance</th>\n",
       "      <th>consume</th>\n",
       "      <th>speed</th>\n",
       "      <th>temp_inside</th>\n",
       "      <th>temp_outside</th>\n",
       "      <th>gas_type</th>\n",
       "      <th>AC</th>\n",
       "      <th>rain</th>\n",
       "      <th>sun</th>\n",
       "    </tr>\n",
       "  </thead>\n",
       "  <tbody>\n",
       "    <tr>\n",
       "      <th>distance</th>\n",
       "      <td>1.000000</td>\n",
       "      <td>-0.128967</td>\n",
       "      <td>0.562299</td>\n",
       "      <td>0.075178</td>\n",
       "      <td>0.088175</td>\n",
       "      <td>0.053411</td>\n",
       "      <td>-0.025738</td>\n",
       "      <td>-0.019791</td>\n",
       "      <td>0.081120</td>\n",
       "    </tr>\n",
       "    <tr>\n",
       "      <th>consume</th>\n",
       "      <td>-0.128967</td>\n",
       "      <td>1.000000</td>\n",
       "      <td>-0.227866</td>\n",
       "      <td>-0.160623</td>\n",
       "      <td>-0.320811</td>\n",
       "      <td>0.015327</td>\n",
       "      <td>0.096591</td>\n",
       "      <td>0.248118</td>\n",
       "      <td>-0.170667</td>\n",
       "    </tr>\n",
       "    <tr>\n",
       "      <th>speed</th>\n",
       "      <td>0.562299</td>\n",
       "      <td>-0.227866</td>\n",
       "      <td>1.000000</td>\n",
       "      <td>0.059293</td>\n",
       "      <td>0.015411</td>\n",
       "      <td>0.097360</td>\n",
       "      <td>-0.035408</td>\n",
       "      <td>0.009489</td>\n",
       "      <td>0.081618</td>\n",
       "    </tr>\n",
       "    <tr>\n",
       "      <th>temp_inside</th>\n",
       "      <td>0.075178</td>\n",
       "      <td>-0.160623</td>\n",
       "      <td>0.059293</td>\n",
       "      <td>1.000000</td>\n",
       "      <td>0.359500</td>\n",
       "      <td>-0.010198</td>\n",
       "      <td>0.297376</td>\n",
       "      <td>-0.036937</td>\n",
       "      <td>0.242248</td>\n",
       "    </tr>\n",
       "    <tr>\n",
       "      <th>temp_outside</th>\n",
       "      <td>0.088175</td>\n",
       "      <td>-0.320811</td>\n",
       "      <td>0.015411</td>\n",
       "      <td>0.359500</td>\n",
       "      <td>1.000000</td>\n",
       "      <td>-0.148705</td>\n",
       "      <td>0.167562</td>\n",
       "      <td>-0.186315</td>\n",
       "      <td>0.346903</td>\n",
       "    </tr>\n",
       "    <tr>\n",
       "      <th>gas_type</th>\n",
       "      <td>0.053411</td>\n",
       "      <td>0.015327</td>\n",
       "      <td>0.097360</td>\n",
       "      <td>-0.010198</td>\n",
       "      <td>-0.148705</td>\n",
       "      <td>1.000000</td>\n",
       "      <td>-0.105285</td>\n",
       "      <td>-0.060328</td>\n",
       "      <td>-0.022761</td>\n",
       "    </tr>\n",
       "    <tr>\n",
       "      <th>AC</th>\n",
       "      <td>-0.025738</td>\n",
       "      <td>0.096591</td>\n",
       "      <td>-0.035408</td>\n",
       "      <td>0.297376</td>\n",
       "      <td>0.167562</td>\n",
       "      <td>-0.105285</td>\n",
       "      <td>1.000000</td>\n",
       "      <td>0.242915</td>\n",
       "      <td>0.088598</td>\n",
       "    </tr>\n",
       "    <tr>\n",
       "      <th>rain</th>\n",
       "      <td>-0.019791</td>\n",
       "      <td>0.248118</td>\n",
       "      <td>0.009489</td>\n",
       "      <td>-0.036937</td>\n",
       "      <td>-0.186315</td>\n",
       "      <td>-0.060328</td>\n",
       "      <td>0.242915</td>\n",
       "      <td>1.000000</td>\n",
       "      <td>-0.112650</td>\n",
       "    </tr>\n",
       "    <tr>\n",
       "      <th>sun</th>\n",
       "      <td>0.081120</td>\n",
       "      <td>-0.170667</td>\n",
       "      <td>0.081618</td>\n",
       "      <td>0.242248</td>\n",
       "      <td>0.346903</td>\n",
       "      <td>-0.022761</td>\n",
       "      <td>0.088598</td>\n",
       "      <td>-0.112650</td>\n",
       "      <td>1.000000</td>\n",
       "    </tr>\n",
       "  </tbody>\n",
       "</table>\n",
       "</div>"
      ],
      "text/plain": [
       "              distance   consume     speed  temp_inside  temp_outside  \\\n",
       "distance      1.000000 -0.128967  0.562299     0.075178      0.088175   \n",
       "consume      -0.128967  1.000000 -0.227866    -0.160623     -0.320811   \n",
       "speed         0.562299 -0.227866  1.000000     0.059293      0.015411   \n",
       "temp_inside   0.075178 -0.160623  0.059293     1.000000      0.359500   \n",
       "temp_outside  0.088175 -0.320811  0.015411     0.359500      1.000000   \n",
       "gas_type      0.053411  0.015327  0.097360    -0.010198     -0.148705   \n",
       "AC           -0.025738  0.096591 -0.035408     0.297376      0.167562   \n",
       "rain         -0.019791  0.248118  0.009489    -0.036937     -0.186315   \n",
       "sun           0.081120 -0.170667  0.081618     0.242248      0.346903   \n",
       "\n",
       "              gas_type        AC      rain       sun  \n",
       "distance      0.053411 -0.025738 -0.019791  0.081120  \n",
       "consume       0.015327  0.096591  0.248118 -0.170667  \n",
       "speed         0.097360 -0.035408  0.009489  0.081618  \n",
       "temp_inside  -0.010198  0.297376 -0.036937  0.242248  \n",
       "temp_outside -0.148705  0.167562 -0.186315  0.346903  \n",
       "gas_type      1.000000 -0.105285 -0.060328 -0.022761  \n",
       "AC           -0.105285  1.000000  0.242915  0.088598  \n",
       "rain         -0.060328  0.242915  1.000000 -0.112650  \n",
       "sun          -0.022761  0.088598 -0.112650  1.000000  "
      ]
     },
     "execution_count": 16,
     "metadata": {},
     "output_type": "execute_result"
    }
   ],
   "source": [
    "df.corr() # shows the correllection table for the data set"
   ]
  },
  {
   "cell_type": "code",
   "execution_count": 17,
   "id": "9e24dd0d",
   "metadata": {},
   "outputs": [
    {
     "data": {
      "image/png": "[encoded data removed]",
      "text/plain": [
       "<Figure size 432x288 with 2 Axes>"
      ]
     },
     "metadata": {
      "needs_background": "light"
     },
     "output_type": "display_data"
    }
   ],
   "source": [
    "sns.heatmap(df.corr())\n",
    "plt.show()"
   ]
  },
  {
   "cell_type": "markdown",
   "id": "ab2540d0",
   "metadata": {},
   "source": [
    "### Getting the data ready"
   ]
  },
  {
   "cell_type": "code",
   "execution_count": 19,
   "id": "d3191894",
   "metadata": {},
   "outputs": [],
   "source": [
    "x =df.drop(columns='consume') #  drop the target column"
   ]
  },
  {
   "cell_type": "code",
   "execution_count": 20,
   "id": "e6bd8d8f",
   "metadata": {},
   "outputs": [],
   "source": [
    "y = df['consume'] # target column"
   ]
  },
  {
   "cell_type": "markdown",
   "id": "58e7cde4",
   "metadata": {},
   "source": [
    "### Creating the data model"
   ]
  },
  {
   "cell_type": "code",
   "execution_count": 22,
   "id": "be5c9bd9",
   "metadata": {},
   "outputs": [],
   "source": [
    "from sklearn.model_selection import train_test_split "
   ]
  },
  {
   "cell_type": "markdown",
   "id": "276e72e9",
   "metadata": {},
   "source": [
    "#### Splitting the data "
   ]
  },
  {
   "cell_type": "code",
   "execution_count": 23,
   "id": "cfe2d6c5",
   "metadata": {},
   "outputs": [],
   "source": [
    "x_train, x_test, y_train, y_test = train_test_split(x, y, test_size=0.2,random_state=42) # split dataset to both train and test"
   ]
  },
  {
   "cell_type": "code",
   "execution_count": null,
   "id": "fcb6d94d",
   "metadata": {},
   "outputs": [],
   "source": []
  },
  {
   "cell_type": "code",
   "execution_count": 26,
   "id": "a1d61f0f",
   "metadata": {},
   "outputs": [],
   "source": [
    "from sklearn.preprocessing import StandardScaler"
   ]
  },
  {
   "cell_type": "code",
   "execution_count": 27,
   "id": "b2d464ba",
   "metadata": {},
   "outputs": [],
   "source": [
    "scaler = StandardScaler()"
   ]
  },
  {
   "cell_type": "code",
   "execution_count": 28,
   "id": "1b5feda5",
   "metadata": {},
   "outputs": [
    {
     "data": {
      "text/plain": [
       "StandardScaler()"
      ]
     },
     "execution_count": 28,
     "metadata": {},
     "output_type": "execute_result"
    }
   ],
   "source": [
    "scaler.fit(x_train)"
   ]
  },
  {
   "cell_type": "code",
   "execution_count": null,
   "id": "395fc0b3",
   "metadata": {},
   "outputs": [],
   "source": []
  },
  {
   "cell_type": "markdown",
   "id": "f3524f8e",
   "metadata": {},
   "source": [
    "### models\n",
    "- **Linear Regression Model**\n",
    "- **Support Vector Machines (SVMs) for Regression**\n",
    "- **Random Forest Regression**\n",
    "- **Gradient Boosting regression**\n"
   ]
  },
  {
   "cell_type": "code",
   "execution_count": 21,
   "id": "11273e66",
   "metadata": {},
   "outputs": [],
   "source": [
    "# import ml model ==> try out for regression model for the best with accurracy\n",
    "from sklearn.linear_model import LinearRegression\n",
    "from sklearn.svm import SVR\n",
    "from sklearn.ensemble import RandomForestRegressor\n",
    "from sklearn.ensemble import GradientBoostingRegressor"
   ]
  },
  {
   "cell_type": "code",
   "execution_count": null,
   "id": "0d09c377",
   "metadata": {},
   "outputs": [],
   "source": []
  },
  {
   "cell_type": "code",
   "execution_count": 22,
   "id": "ec17de65",
   "metadata": {},
   "outputs": [],
   "source": [
    "# loading the model\n",
    "lr = LinearRegression()\n",
    "sr = SVR()\n",
    "rf = RandomForestRegressor()\n",
    "gb = GradientBoostingRegressor()"
   ]
  },
  {
   "cell_type": "code",
   "execution_count": 23,
   "id": "040dfed6",
   "metadata": {},
   "outputs": [
    {
     "data": {
      "text/plain": [
       "GradientBoostingRegressor()"
      ]
     },
     "execution_count": 23,
     "metadata": {},
     "output_type": "execute_result"
    }
   ],
   "source": [
    "# training the model\n",
    "lr.fit(x_train, y_train)\n",
    "sr.fit(x_train, y_train)\n",
    "rf.fit(x_train, y_train)\n",
    "gb.fit(x_train, y_train)"
   ]
  },
  {
   "cell_type": "markdown",
   "id": "8c089c1d",
   "metadata": {},
   "source": [
    "#### Predicting Values for Train datset"
   ]
  },
  {
   "cell_type": "code",
   "execution_count": 24,
   "id": "e2d358b0",
   "metadata": {},
   "outputs": [],
   "source": [
    "# make prediction with trained model\n",
    "lr_prediction = lr.predict(x_test)\n",
    "sr_prediction = sr.predict(x_test)\n",
    "rf_prediction = rf.predict(x_test)\n",
    "gb_prediction = gb.predict(x_test)"
   ]
  },
  {
   "cell_type": "markdown",
   "id": "ed196ee7",
   "metadata": {},
   "source": [
    "**The table shows the actual values and the predicted values**"
   ]
  },
  {
   "cell_type": "code",
   "execution_count": 25,
   "id": "b43fb1ee",
   "metadata": {},
   "outputs": [
    {
     "data": {
      "text/html": [
       "<div>\n",
       "<style scoped>\n",
       "    .dataframe tbody tr th:only-of-type {\n",
       "        vertical-align: middle;\n",
       "    }\n",
       "\n",
       "    .dataframe tbody tr th {\n",
       "        vertical-align: top;\n",
       "    }\n",
       "\n",
       "    .dataframe thead th {\n",
       "        text-align: right;\n",
       "    }\n",
       "</style>\n",
       "<table border=\"1\" class=\"dataframe\">\n",
       "  <thead>\n",
       "    <tr style=\"text-align: right;\">\n",
       "      <th></th>\n",
       "      <th>actual</th>\n",
       "      <th>lr_prediction</th>\n",
       "      <th>sr_prediction</th>\n",
       "      <th>rf_prediction</th>\n",
       "      <th>gb_prediction</th>\n",
       "    </tr>\n",
       "  </thead>\n",
       "  <tbody>\n",
       "    <tr>\n",
       "      <th>271</th>\n",
       "      <td>5.6</td>\n",
       "      <td>4.746925</td>\n",
       "      <td>4.953230</td>\n",
       "      <td>5.387</td>\n",
       "      <td>5.263199</td>\n",
       "    </tr>\n",
       "    <tr>\n",
       "      <th>46</th>\n",
       "      <td>5.1</td>\n",
       "      <td>5.184706</td>\n",
       "      <td>4.979588</td>\n",
       "      <td>5.292</td>\n",
       "      <td>5.257272</td>\n",
       "    </tr>\n",
       "    <tr>\n",
       "      <th>167</th>\n",
       "      <td>6.1</td>\n",
       "      <td>5.106448</td>\n",
       "      <td>4.834108</td>\n",
       "      <td>5.096</td>\n",
       "      <td>5.283508</td>\n",
       "    </tr>\n",
       "    <tr>\n",
       "      <th>42</th>\n",
       "      <td>4.6</td>\n",
       "      <td>5.166519</td>\n",
       "      <td>4.924761</td>\n",
       "      <td>4.562</td>\n",
       "      <td>4.720584</td>\n",
       "    </tr>\n",
       "    <tr>\n",
       "      <th>349</th>\n",
       "      <td>4.3</td>\n",
       "      <td>4.519662</td>\n",
       "      <td>4.263273</td>\n",
       "      <td>4.187</td>\n",
       "      <td>4.203845</td>\n",
       "    </tr>\n",
       "  </tbody>\n",
       "</table>\n",
       "</div>"
      ],
      "text/plain": [
       "     actual  lr_prediction  sr_prediction  rf_prediction  gb_prediction\n",
       "271     5.6       4.746925       4.953230          5.387       5.263199\n",
       "46      5.1       5.184706       4.979588          5.292       5.257272\n",
       "167     6.1       5.106448       4.834108          5.096       5.283508\n",
       "42      4.6       5.166519       4.924761          4.562       4.720584\n",
       "349     4.3       4.519662       4.263273          4.187       4.203845"
      ]
     },
     "execution_count": 25,
     "metadata": {},
     "output_type": "execute_result"
    }
   ],
   "source": [
    "#make a data frame and compare actual value with model prediction\n",
    "preddf=pd.DataFrame({\n",
    "    'actual':y_test,\n",
    "    'lr_prediction': lr_prediction,\n",
    "    'sr_prediction': sr_prediction,\n",
    "    'rf_prediction': rf_prediction,\n",
    "    'gb_prediction': gb_prediction\n",
    "})\n",
    "preddf.head(5)"
   ]
  },
  {
   "cell_type": "markdown",
   "id": "ab04ee34",
   "metadata": {},
   "source": [
    "**The graph shows the actual values and the predicted values**"
   ]
  },
  {
   "cell_type": "code",
   "execution_count": 26,
   "id": "3f981b2c",
   "metadata": {},
   "outputs": [
    {
     "data": {
      "text/plain": [
       "<function matplotlib.pyplot.show(close=None, block=None)>"
      ]
     },
     "execution_count": 26,
     "metadata": {},
     "output_type": "execute_result"
    },
    {
     "data": {
      "image/png": "[encoded data removed]",
      "text/plain": [
       "<Figure size 720x720 with 4 Axes>"
      ]
     },
     "metadata": {
      "needs_background": "light"
     },
     "output_type": "display_data"
    }
   ],
   "source": [
    "# visualisation of prediction with actual values\n",
    "plt.figure(figsize=(10,10))\n",
    "\n",
    "plt.subplot(221)\n",
    "plt.plot(preddf['actual'].iloc[40:50], label='actual')\n",
    "plt.plot(preddf['lr_prediction'].iloc[40:50], label='lr_prediction')\n",
    "plt.legend()\n",
    "\n",
    "plt.subplot(222)\n",
    "plt.plot(preddf['actual'].iloc[60:70], label='actual')\n",
    "plt.plot(preddf['sr_prediction'].iloc[60:70], label='sr_prediction')\n",
    "plt.legend()\n",
    "\n",
    "plt.subplot(223)\n",
    "plt.plot(preddf['actual'].iloc[60:70], label='actual')\n",
    "plt.plot(preddf['rf_prediction'].iloc[60:70], label='rf_prediction')\n",
    "plt.legend()\n",
    "\n",
    "plt.subplot(224)\n",
    "plt.plot(preddf['actual'].iloc[60:70], label='actual')\n",
    "plt.plot(preddf['gb_prediction'].iloc[60:70], label='gb_prediction')\n",
    "plt.legend()\n",
    "\n",
    "plt.show"
   ]
  },
  {
   "cell_type": "markdown",
   "id": "4cdaf012",
   "metadata": {},
   "source": [
    "### Evaluation of the Model"
   ]
  },
  {
   "cell_type": "code",
   "execution_count": 27,
   "id": "9a20ee0b",
   "metadata": {},
   "outputs": [],
   "source": [
    "from sklearn import metrics"
   ]
  },
  {
   "cell_type": "markdown",
   "id": "6ef5b259",
   "metadata": {},
   "source": [
    "**R2 (coefficient of determination) regression score function. Best possible score is 1.0**"
   ]
  },
  {
   "cell_type": "code",
   "execution_count": 28,
   "id": "b5bd8a04",
   "metadata": {},
   "outputs": [],
   "source": [
    "# evaluating with mean saqure the higher the better \n",
    "lr_r2=metrics.r2_score(y_test, lr_prediction)\n",
    "sr_r2=metrics.r2_score(y_test, sr_prediction)\n",
    "rf_r2=metrics.r2_score(y_test, rf_prediction)\n",
    "gb_r2=metrics.r2_score(y_test, gb_prediction)"
   ]
  },
  {
   "cell_type": "code",
   "execution_count": 30,
   "id": "722b85b3",
   "metadata": {
    "scrolled": true
   },
   "outputs": [
    {
     "name": "stdout",
     "output_type": "stream",
     "text": [
      "lr_r2: 0.09442245405200766 \n",
      "sr_r2: 0.3599542759519536 \n",
      "rf_r2: 0.5161198812582166 \n",
      "gb_r2: 0.3383149793968818\n"
     ]
    }
   ],
   "source": [
    "print(f'lr_r2: {lr_r2} \\nsr_r2: {sr_r2} \\nrf_r2: {rf_r2} \\ngb_r2: {gb_r2}')"
   ]
  },
  {
   "cell_type": "markdown",
   "id": "f652137d",
   "metadata": {},
   "source": [
    "**The mean_squared_error function computes mean square error, a risk metric corresponding to the expected value of the squared (quadratic) error or loss.**"
   ]
  },
  {
   "cell_type": "code",
   "execution_count": 31,
   "id": "f3527467",
   "metadata": {},
   "outputs": [],
   "source": [
    " # evaluating with abosulute mean score \n",
    "lr_mae=metrics.mean_absolute_error(y_test, lr_prediction)\n",
    "sr_mae=metrics.mean_absolute_error(y_test, sr_prediction)\n",
    "rf_mae=metrics.mean_absolute_error(y_test, rf_prediction)\n",
    "gb_mae=metrics.mean_absolute_error(y_test, gb_prediction)"
   ]
  },
  {
   "cell_type": "code",
   "execution_count": 32,
   "id": "f42c2142",
   "metadata": {
    "scrolled": true
   },
   "outputs": [
    {
     "name": "stdout",
     "output_type": "stream",
     "text": [
      "lr_mae: 0.6596955284395748 \n",
      "sr_mae: 0.5331649012899715 \n",
      "rf_mae: 0.4368175518925523 \n",
      "gb_mae: 0.4951462417336492\n"
     ]
    }
   ],
   "source": [
    "print(f'lr_mae: {lr_mae} \\nsr_mae: {sr_mae} \\nrf_mae: {rf_mae} \\ngb_mae: {gb_mae}')"
   ]
  },
  {
   "cell_type": "markdown",
   "id": "1b25804d",
   "metadata": {},
   "source": [
    "**The mean_absolute_error function computes mean absolute error, a risk metric corresponding to the expected value of the absolute error loss**"
   ]
  },
  {
   "cell_type": "code",
   "execution_count": 33,
   "id": "f2f238b7",
   "metadata": {
    "scrolled": true
   },
   "outputs": [],
   "source": [
    "lr_mse=metrics.mean_squared_error(y_test, lr_prediction)\n",
    "sr_mse=metrics.mean_squared_error(y_test, sr_prediction)\n",
    "rf_mse=metrics.mean_squared_error(y_test, rf_prediction)\n",
    "gb_mse=metrics.mean_squared_error(y_test, gb_prediction)"
   ]
  },
  {
   "cell_type": "code",
   "execution_count": 34,
   "id": "f1c74cdf",
   "metadata": {},
   "outputs": [
    {
     "name": "stdout",
     "output_type": "stream",
     "text": [
      "lr_mse: 0.8216359849622316 \n",
      "sr_mse: 0.5807173568427711 \n",
      "rf_mse: 0.4390273585569662 \n",
      "gb_mse: 0.6003508214957665\n"
     ]
    }
   ],
   "source": [
    "print(f'lr_mse: {lr_mse} \\nsr_mse: {sr_mse} \\nrf_mse: {rf_mse} \\ngb_mse: {gb_mse}')"
   ]
  },
  {
   "cell_type": "markdown",
   "id": "1d4305e4",
   "metadata": {},
   "source": [
    "*Conclusion** : The R2 value , MAE Value and the MSE are for random forest regression are 0.51, 0.43, 0.43 respectivly  which is quite ok compared to other model . This means that the model make most accurate predictions"
   ]
  },
  {
   "cell_type": "markdown",
   "id": "b2a5de5f",
   "metadata": {},
   "source": [
    "### Best model"
   ]
  },
  {
   "cell_type": "code",
   "execution_count": 35,
   "id": "a988c6a6",
   "metadata": {},
   "outputs": [
    {
     "data": {
      "text/plain": [
       "RandomForestRegressor()"
      ]
     },
     "execution_count": 35,
     "metadata": {},
     "output_type": "execute_result"
    }
   ],
   "source": [
    "# slecting the best model and training with enteir dataset\n",
    "rf = RandomForestRegressor()\n",
    "rf.fit(x, y)"
   ]
  },
  {
   "cell_type": "markdown",
   "id": "d604bd23",
   "metadata": {},
   "source": [
    "### Saving model"
   ]
  },
  {
   "cell_type": "code",
   "execution_count": 36,
   "id": "2dfa723d",
   "metadata": {},
   "outputs": [],
   "source": [
    "import joblib"
   ]
  },
  {
   "cell_type": "code",
   "execution_count": 37,
   "id": "9692f11c",
   "metadata": {},
   "outputs": [
    {
     "data": {
      "text/plain": [
       "['joblib_rf']"
      ]
     },
     "execution_count": 37,
     "metadata": {},
     "output_type": "execute_result"
    }
   ],
   "source": [
    "joblib.dump(rf, 'joblib_rf') # saving the trained mode\n"
   ]
  },
  {
   "cell_type": "code",
   "execution_count": 38,
   "id": "188b7863",
   "metadata": {},
   "outputs": [],
   "source": [
    "model = joblib.load('joblib_rf')"
   ]
  },
  {
   "cell_type": "markdown",
   "id": "d39fbb57",
   "metadata": {},
   "source": [
    "### GUI"
   ]
  },
  {
   "cell_type": "code",
   "execution_count": 39,
   "id": "0d042f2f",
   "metadata": {},
   "outputs": [],
   "source": [
    "from tkinter import *"
   ]
  },
  {
   "cell_type": "code",
   "execution_count": 40,
   "id": "73aaa1da",
   "metadata": {},
   "outputs": [],
   "source": [
    "def show_entry():\n",
    "    p1 = float(e1.get())\n",
    "    p2 = float(e2.get())\n",
    "    p3 = float(e3.get())\n",
    "    p4 = float(e4.get())\n",
    "    p5 = float(e5.get())\n",
    "    p6 = float(e6.get())\n",
    "    p7 = float(e7.get())\n",
    "    p8 = float(e8.get())\n",
    "    \n",
    "    model = joblib.load('joblib_rf')\n",
    "    result = model.predict([[p1,p2,p3,p4,p5,p6,p7,p8]])\n",
    "    Label(master, text = 'Fuel Consumption: ', fg = 'black', font=('Impact',10, 'bold')).grid(row=10)\n",
    "    Label(master, text = result, fg = 'green', font=('Impact',14, 'bold') ).grid(row=10, column=11)\n",
    "\n",
    "\n",
    "\n",
    "\n",
    "master = Tk()\n",
    "master.geometry(\"400x300\")\n",
    "master.title('Fuel Consumption Prediction')\n",
    "label1 = Label(master, text='Fuel Consumption Prediction', bg = 'navy', fg = 'white')\n",
    "label1.grid(row=0, columnspan=2)\n",
    "label2 = Label(master, text='Distance')\n",
    "label2.grid(row=1)\n",
    "label3 = Label(master, text='Speed')\n",
    "label3.grid(row=2)\n",
    "label4 = Label(master, text='Temp_inside')\n",
    "label4.grid(row=3)\n",
    "label5 = Label(master, text='Temp_outside')\n",
    "label5.grid(row=4)\n",
    "label6 = Label(master, text='E10 or SP98 [1/0]')\n",
    "label6.grid(row=5)\n",
    "label7 = Label(master, text='AC or Not [1/0]')\n",
    "label7.grid(row=6)\n",
    "label8 = Label(master, text='Raining or Not [1/0]')\n",
    "label8.grid(row=7)\n",
    "label9 = Label(master, text='Sunny or Not [1/0]')\n",
    "label9.grid(row=8)\n",
    "\n",
    "e1=Entry(master)\n",
    "e1.grid(row=1, column=1)\n",
    "e2=Entry(master)\n",
    "e2.grid(row=2, column=1)\n",
    "e3=Entry(master)\n",
    "e3.grid(row=3, column=1)\n",
    "e4=Entry(master)\n",
    "e4.grid(row=4, column=1)\n",
    "e5=Entry(master)\n",
    "e5.grid(row=5, column=1)\n",
    "e6=Entry(master)\n",
    "e6.grid(row=6, column=1)\n",
    "e7=Entry(master)\n",
    "e7.grid(row=7, column=1)\n",
    "e8=Entry(master)\n",
    "e8.grid(row=8, column=1)\n",
    "\n",
    "\n",
    "Button(master, text='Predict', bg = 'navy', fg = 'white', relief=RIDGE, command = show_entry).grid()\n",
    "\n",
    "mainloop()"
   ]
  },
  {
   "cell_type": "markdown",
   "id": "efb65956",
   "metadata": {},
   "source": [
    "![image](http://localhost:8888/view/Desktop/regression/fuel%20consumtion/Screenshot_2021-12-31_19-34-03.png)"
   ]
  },
  {
   "cell_type": "markdown",
   "id": "04359e80",
   "metadata": {},
   "source": [
    "![image info](Screenshot_2021-12-31_19-34-03.png)"
   ]
  },
  {
   "cell_type": "code",
   "execution_count": null,
   "id": "0cfe55e4",
   "metadata": {},
   "outputs": [],
   "source": [
    "def show_entry():\n",
    "    p1 = float(e1.get())\n",
    "    p2 = float(e2.get())\n",
    "    p3 = float(e3.get())\n",
    "    p4 = float(e4.get())\n",
    "    #p5 = float(e5.get())\n",
    "    #p6 = float(e6.get())\n",
    "    \n",
    "    p5 = variable.get()\n",
    "    if p5 == 'E10':\n",
    "        p5 = 1\n",
    "    else:\n",
    "        p5 == 0\n",
    "    p6 = float(e6.get())\n",
    "    p7 = float(e7.get())\n",
    "    p8 = float(e8.get())\n",
    "    \n",
    "    model = joblib.load('joblib_rf')\n",
    "    result = model.predict([[p1,p2,p3,p4,p5,p6,p7,p8]])\n",
    "    Label(master, text = 'Fuel Consumption: ', fg = 'black', font=('Impact',10, 'bold')).grid(row=10)\n",
    "    Label(master, text = result, fg = 'green', font=('Impact',14, 'bold') ).grid(row=10, column=11)\n",
    "\n",
    "\n",
    "\n",
    "\n",
    "master = Tk()\n",
    "#master.geometry(\"400x300\")\n",
    "master.title('Fuel Consumption Prediction')\n",
    "label1 = Label(master, text='Fuel Consumption Prediction', bg = 'navy', fg = 'white')\n",
    "label1.grid(row=0, columnspan=2)\n",
    "label2 = Label(master, text='Distance')\n",
    "label2.grid(row=1)\n",
    "label3 = Label(master, text='Speed')\n",
    "label3.grid(row=2)\n",
    "label4 = Label(master, text='Temp_inside')\n",
    "label4.grid(row=3)\n",
    "label5 = Label(master, text='Temp_outside')\n",
    "label5.grid(row=4)\n",
    "label6 = Label(master, text='Fuel_type')\n",
    "label6.grid(row=5)\n",
    "label7 = Label(master, text='AC or Not [1/0]')\n",
    "label7.grid(row=6)\n",
    "label8 = Label(master, text='Raining or Not [1/0]')\n",
    "label8.grid(row=7)\n",
    "label9 = Label(master, text='Sunny or Not [1/0]')\n",
    "label9.grid(row=8)\n",
    "\n",
    "e1=Entry(master)\n",
    "e1.grid(row=1, column=1)\n",
    "e2=Entry(master)\n",
    "e2.grid(row=2, column=1)\n",
    "e3=Entry(master)\n",
    "e3.grid(row=3, column=1)\n",
    "e4=Entry(master)\n",
    "e4.grid(row=4, column=1)\n",
    "#e5=Entry(master)\n",
    "#e5.grid(row=5, column=1)\n",
    "OPTIONS = [\"E10\",\"Sp98\"]\n",
    "variable = StringVar(master)\n",
    "variable.set(OPTIONS[0]) # default value\n",
    "e5 = OptionMenu(master, variable, *OPTIONS)\n",
    "e5.grid(row=5, column=1)\n",
    "e6=Entry(master)\n",
    "e6.grid(row=6, column=1)\n",
    "e7=Entry(master)\n",
    "e7.grid(row=7, column=1)\n",
    "e8=Entry(master)\n",
    "e8.grid(row=8, column=1)\n",
    "\n",
    "\n",
    "Button(master, text='Predict', bg = 'navy', fg = 'white', relief=RIDGE, command = show_entry).grid()\n",
    "\n",
    "mainloop()"
   ]
  },
  {
   "cell_type": "code",
   "execution_count": null,
   "id": "c5b10d32",
   "metadata": {},
   "outputs": [],
   "source": []
  }
 ],
 "metadata": {
  "kernelspec": {
   "display_name": "Python 3 (ipykernel)",
   "language": "python",
   "name": "python3"
  },
  "language_info": {
   "codemirror_mode": {
    "name": "ipython",
    "version": 3
   },
   "file_extension": ".py",
   "mimetype": "text/x-python",
   "name": "python",
   "nbconvert_exporter": "python",
   "pygments_lexer": "ipython3",
   "version": "3.9.7"
  }
 },
 "nbformat": 4,
 "nbformat_minor": 5
}
