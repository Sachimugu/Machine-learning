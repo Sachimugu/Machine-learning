{
 "cells": [
  {
   "cell_type": "markdown",
   "id": "58fdda63",
   "metadata": {},
   "source": [
    "# Linear Regression "
   ]
  },
  {
   "cell_type": "markdown",
   "id": "f98d3199",
   "metadata": {},
   "source": [
    "**Steps**\n",
    "- Define class\n",
    "- Define methods; init, fit, weight_update, predict\n",
    "- ocalculate and update gradient descient"
   ]
  },
  {
   "cell_type": "markdown",
   "id": "de28cb7e",
   "metadata": {},
   "source": [
    "## From Scratch"
   ]
  },
  {
   "cell_type": "code",
   "execution_count": 1,
   "id": "21ee1a77",
   "metadata": {},
   "outputs": [],
   "source": [
    "import numpy"
   ]
  },
  {
   "cell_type": "code",
   "execution_count": 2,
   "id": "6ba651fb",
   "metadata": {},
   "outputs": [],
   "source": [
    "class Linear_Regression():\n",
    "    \n",
    "    def __init__ (self, learning_rate, iteration_no):\n",
    "        \n",
    "        self.learning_rate = learning_rate ##set learning rate\n",
    "        self.iteration_no = iteration_no  #set itration rate\n",
    "        \n",
    "    def fit(self, X, y):\n",
    "        \n",
    "        self.X = X #set xtrain\n",
    "        self.Y = y #set ytrain\n",
    "        \n",
    "        self.row = X.shape[0] # number of row in xtrain\n",
    "        self.column = X.shape[1] # number column in xtrain \n",
    "        \n",
    "        #intialises wieght  and bias with 0s\n",
    "        self.weight = np.zeros(self.column) \n",
    "        self.bias = 0\n",
    "        \n",
    "        for i in range(self.iteration_no):\n",
    "            self.update_weight()\n",
    "    \n",
    "    \n",
    "    #claculate graident descient and update wieght and bias\n",
    "    def update_weight(self, ):\n",
    "        \n",
    "        Y_pred = self.predict(self.X)\n",
    "        \n",
    "        derivative_weight= - (2*(self.X.T).dot(self.Y - Y_pred)) / self.row \n",
    "                \n",
    "        derivative_bias = -2 * np.sum(self.Y - Y_pred ) / self.row\n",
    "                \n",
    "        self.weight = self.weight - self.learning_rate * derivative_weight\n",
    "        self.bias = self.bias - self.learning_rate * derivative_bias\n",
    "                \n",
    "                \n",
    "    # predict\n",
    "    def predict(self, X):\n",
    "        \n",
    "        return X.dot(self.weight) + self.bias\n",
    "        \n",
    "    "
   ]
  },
  {
   "cell_type": "markdown",
   "id": "517c9c1c",
   "metadata": {},
   "source": [
    "## Loading and preparing data"
   ]
  },
  {
   "cell_type": "code",
   "execution_count": 3,
   "id": "006e4eaa",
   "metadata": {},
   "outputs": [],
   "source": [
    "import pandas as pd\n",
    "import numpy as np\n",
    "from matplotlib import pyplot as plt\n",
    "import seaborn as sns"
   ]
  },
  {
   "cell_type": "code",
   "execution_count": 4,
   "id": "59ab87c5",
   "metadata": {},
   "outputs": [],
   "source": [
    "df = pd.read_csv('measurements.csv') # load the dataset using pandas"
   ]
  },
  {
   "cell_type": "code",
   "execution_count": 5,
   "id": "181eac04",
   "metadata": {},
   "outputs": [
    {
     "data": {
      "text/plain": [
       "distance           0\n",
       "consume            0\n",
       "speed              0\n",
       "temp_inside       12\n",
       "temp_outside       0\n",
       "specials         295\n",
       "gas_type           0\n",
       "AC                 0\n",
       "rain               0\n",
       "sun                0\n",
       "refill liters    375\n",
       "refill gas       375\n",
       "dtype: int64"
      ]
     },
     "execution_count": 5,
     "metadata": {},
     "output_type": "execute_result"
    }
   ],
   "source": [
    "df.isnull().sum() # check the number of missing values"
   ]
  },
  {
   "cell_type": "code",
   "execution_count": 6,
   "id": "5dbb24c1",
   "metadata": {},
   "outputs": [],
   "source": [
    "df = df.drop(columns=['specials','refill liters','refill gas'], axis = 1) # drop irrevelant columns\n"
   ]
  },
  {
   "cell_type": "code",
   "execution_count": 7,
   "id": "f51b30ce",
   "metadata": {},
   "outputs": [],
   "source": [
    "# replace the comma in the data set with dot in distance, consume, temp_inside column\n",
    "df['distance']=df['distance'].str.replace(',','.')\n",
    "df['consume']=df['consume'].str.replace(',','.')\n",
    "df['temp_inside']=df['temp_inside'].str.replace(',','.')"
   ]
  },
  {
   "cell_type": "code",
   "execution_count": 8,
   "id": "fb8ff131",
   "metadata": {},
   "outputs": [],
   "source": [
    "# cange the data ype from object to float\n",
    "df['distance']=df['distance'].astype(float)\n",
    "df['consume']=df['consume'].astype(float)\n",
    "df['temp_inside']=df['temp_inside'].astype(float)"
   ]
  },
  {
   "cell_type": "code",
   "execution_count": 9,
   "id": "48268ae5",
   "metadata": {},
   "outputs": [],
   "source": [
    "df['temp_inside']=df['temp_inside'].fillna(21.929521)"
   ]
  },
  {
   "cell_type": "code",
   "execution_count": 10,
   "id": "f49732bc",
   "metadata": {},
   "outputs": [],
   "source": [
    "df['gas_type']=df['gas_type'].map({'E10':1, 'SP98':0}) # map E10 to 0 and SP98 t0 1\n",
    "df['gas_type']=df['gas_type'].astype(int)"
   ]
  },
  {
   "cell_type": "code",
   "execution_count": 11,
   "id": "94d4920f",
   "metadata": {},
   "outputs": [],
   "source": [
    "x = df.drop(columns='consume') "
   ]
  },
  {
   "cell_type": "code",
   "execution_count": 12,
   "id": "535d745e",
   "metadata": {},
   "outputs": [],
   "source": [
    "y = df['consume'] # target column"
   ]
  },
  {
   "cell_type": "markdown",
   "id": "9dd26408",
   "metadata": {},
   "source": [
    "## Implementaion of Created Model "
   ]
  },
  {
   "cell_type": "code",
   "execution_count": 13,
   "id": "8f9fbc0e",
   "metadata": {},
   "outputs": [],
   "source": [
    "from sklearn.model_selection import train_test_split "
   ]
  },
  {
   "cell_type": "code",
   "execution_count": 14,
   "id": "09803e16",
   "metadata": {},
   "outputs": [],
   "source": [
    "x_train, x_test, y_train, y_test = train_test_split(x, y, test_size=0.2,random_state=42) # split dataset to both train and test"
   ]
  },
  {
   "cell_type": "code",
   "execution_count": 15,
   "id": "8f9785be",
   "metadata": {},
   "outputs": [],
   "source": [
    "model1 = Linear_Regression(0.01,100)"
   ]
  },
  {
   "cell_type": "code",
   "execution_count": 16,
   "id": "fcbcd0a1",
   "metadata": {
    "scrolled": true
   },
   "outputs": [
    {
     "data": {
      "text/plain": [
       "0.01"
      ]
     },
     "execution_count": 16,
     "metadata": {},
     "output_type": "execute_result"
    }
   ],
   "source": [
    "model1.learning_rate"
   ]
  },
  {
   "cell_type": "code",
   "execution_count": 17,
   "id": "0e4ba388",
   "metadata": {},
   "outputs": [
    {
     "data": {
      "text/plain": [
       "100"
      ]
     },
     "execution_count": 17,
     "metadata": {},
     "output_type": "execute_result"
    }
   ],
   "source": [
    "model1.iteration_no"
   ]
  },
  {
   "cell_type": "code",
   "execution_count": 18,
   "id": "25847323",
   "metadata": {},
   "outputs": [],
   "source": [
    "model1.fit(x_train, y_train)"
   ]
  },
  {
   "cell_type": "code",
   "execution_count": 19,
   "id": "801b10cb",
   "metadata": {},
   "outputs": [
    {
     "data": {
      "text/plain": [
       "271   -4.133889e+178\n",
       "46    -4.345735e+178\n",
       "167   -4.904697e+178\n",
       "42    -4.625910e+178\n",
       "349   -5.920203e+178\n",
       "           ...      \n",
       "3     -4.769818e+178\n",
       "18    -5.500501e+178\n",
       "93    -5.262063e+178\n",
       "108   -4.483546e+178\n",
       "255   -4.378923e+178\n",
       "Length: 78, dtype: float64"
      ]
     },
     "execution_count": 19,
     "metadata": {},
     "output_type": "execute_result"
    }
   ],
   "source": [
    "model1.predict(x_test)"
   ]
  },
  {
   "cell_type": "code",
   "execution_count": null,
   "id": "a9f8948a",
   "metadata": {},
   "outputs": [],
   "source": []
  }
 ],
 "metadata": {
  "kernelspec": {
   "display_name": "Python 3 (ipykernel)",
   "language": "python",
   "name": "python3"
  },
  "language_info": {
   "codemirror_mode": {
    "name": "ipython",
    "version": 3
   },
   "file_extension": ".py",
   "mimetype": "text/x-python",
   "name": "python",
   "nbconvert_exporter": "python",
   "pygments_lexer": "ipython3",
   "version": "3.10.0"
  }
 },
 "nbformat": 4,
 "nbformat_minor": 5
}
